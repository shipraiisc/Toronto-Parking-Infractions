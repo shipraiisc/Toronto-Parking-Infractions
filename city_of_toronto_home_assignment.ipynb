{
 "cells": [
  {
   "cell_type": "code",
   "execution_count": 1,
   "metadata": {},
   "outputs": [],
   "source": [
    "# All data are inside data folder\n",
    "# Before running this notebook, please unzip all zipped data under data/parking-tickets folder.\n",
    "# Data had to be zipped as their size were more than 100 MB and github does not allow to upload 100 MB files.\n",
    "# It is important to note that encoding format of existing parking-tickets at https://open.toronto.ca are not same\n",
    "# For example, for 2008 and 2010 infraction data encoding format was utf-16le while all other data encoding format was utf-8\n",
    "# The encoding format for few of data has been changed such that all data at github is saved in utf-8 format \n",
    "# so, it is important to run this notebook file with data available at github along with this file. "
   ]
  },
  {
   "cell_type": "code",
   "execution_count": 2,
   "metadata": {},
   "outputs": [],
   "source": [
    "import pandas as pd\n",
    "import matplotlib.pyplot as plt\n",
    "import json\n",
    "from pandas.io.json import json_normalize\n",
    "import glob\n",
    "import geopandas as gpd"
   ]
  },
  {
   "cell_type": "code",
   "execution_count": 3,
   "metadata": {},
   "outputs": [],
   "source": [
    "def season_of_date(month):\n",
    "    if month in ['December', 'January', 'February']:\n",
    "        return 'Winter'\n",
    "    elif month in ['March', 'April', 'May']:\n",
    "        return 'Spring'\n",
    "    elif month in ['June', 'July', 'August']:\n",
    "        return 'Summer'\n",
    "    elif month in ['September', 'October', 'November']:\n",
    "        return 'Fall'"
   ]
  },
  {
   "cell_type": "code",
   "execution_count": 4,
   "metadata": {},
   "outputs": [
    {
     "name": "stderr",
     "output_type": "stream",
     "text": [
      "Skipping line 170864: field larger than field limit (131072)\n",
      "Skipping line 181770: field larger than field limit (131072)\n",
      "Skipping line 2042: ',' expected after '\"'\n",
      "Skipping line 1075521: field larger than field limit (131072)\n",
      "Skipping line 1447589: field larger than field limit (131072)\n",
      "Skipping line 2351360: field larger than field limit (131072)\n"
     ]
    }
   ],
   "source": [
    "df_infractions_by_frequency = pd.DataFrame()\n",
    "df_infractions_by_revenue = pd.DataFrame()\n",
    "infractions_count_per_week_day = pd.DataFrame()\n",
    "infractions_count_per_month = pd.DataFrame()\n",
    "infractions_count_per_season = pd.DataFrame()\n",
    "infractions_count_per_year = pd.DataFrame()\n",
    "\n",
    "all_files = glob.glob(\"data/parking-tickets/*/*\")\n",
    "for file in all_files:\n",
    "    df = pd.read_csv(filepath_or_buffer=file, \n",
    "                            encoding='utf-8', # some of input file are using utf-16le encode, so saved all with utf-8\n",
    "                            error_bad_lines=False,\n",
    "                            engine = 'python', # python engine needed to take care EOF file problem with data\n",
    "                            keep_default_na = False, # to drop float NaN(at the place of missing values), which convert infraction code to float number instead of integer \n",
    "                            usecols = ['infraction_code', 'set_fine_amount', 'date_of_infraction', 'location2'])\n",
    "    df_infractions_by_frequency_new = df.groupby('infraction_code')['infraction_code'].count().reset_index(name ='frequency')\n",
    "    df_infractions_by_frequency = pd.concat([df_infractions_by_frequency, df_infractions_by_frequency_new])\n",
    "    \n",
    "    df_infractions_by_revenue_new = df.groupby('infraction_code')['set_fine_amount'].sum().reset_index(name ='fine_amount')\n",
    "    df_infractions_by_revenue = pd.concat([df_infractions_by_revenue, df_infractions_by_revenue_new])\n",
    "    \n",
    "    df['date_of_infraction'] = pd.to_datetime(df['date_of_infraction'], format='%Y%m%d', errors='coerce')\n",
    "    \n",
    "    df['week_day'] = df['date_of_infraction'].dt.day_name()\n",
    "    infractions_count_per_week_day_new = df.groupby('week_day')['week_day'].count().reset_index(name ='frequency')\n",
    "    infractions_count_per_week_day = pd.concat([infractions_count_per_week_day, infractions_count_per_week_day_new], sort=False)\n",
    "\n",
    "    df['month'] = df['date_of_infraction'].dt.month_name()\n",
    "    infractions_count_per_month_new = df.groupby('month')['month'].count().reset_index(name ='frequency')\n",
    "    infractions_count_per_month = pd.concat([infractions_count_per_month, infractions_count_per_month_new], sort=False)\n",
    "\n",
    "    df['year'] = df['date_of_infraction'].dt.year\n",
    "    infractions_count_per_year_new = df.groupby('year')['year'].count().reset_index(name ='frequency')\n",
    "    infractions_count_per_year = pd.concat([infractions_count_per_year, infractions_count_per_year_new], sort=False)"
   ]
  },
  {
   "cell_type": "code",
   "execution_count": 5,
   "metadata": {},
   "outputs": [
    {
     "name": "stdout",
     "output_type": "stream",
     "text": [
      "3.1.1 - Top 20 ticket infractions (frequency)\n",
      "infraction_code  frequency\n",
      "              5    5116613\n",
      "             29    4106394\n",
      "              3    3502280\n",
      "            210    2769018\n",
      "            207    2136010\n",
      "              9    1548306\n",
      "              2    1214448\n",
      "              8     996241\n",
      "              6     851054\n",
      "             15     394754\n",
      "            406     342706\n",
      "             28     319264\n",
      "            403     298556\n",
      "              5     276334\n",
      "              3     255794\n",
      "             30     241415\n",
      "             29     233051\n",
      "            347     225452\n",
      "            192     219740\n",
      "            312     216261\n"
     ]
    }
   ],
   "source": [
    "# 3.1.1 - Top 20 ticket infractions (frequency)\n",
    "print(\"3.1.1 - Top 20 ticket infractions (frequency)\")\n",
    "df_top_20_infractions_by_frequency = df_infractions_by_frequency.groupby('infraction_code')['frequency'].sum().sort_values(ascending=False).head(20).reset_index(name ='frequency')\n",
    "print(df_top_20_infractions_by_frequency.to_string(index=False))"
   ]
  },
  {
   "cell_type": "code",
   "execution_count": 6,
   "metadata": {},
   "outputs": [
    {
     "name": "stdout",
     "output_type": "stream",
     "text": [
      "3.1.2 - Top 20 ticket infractions (revenue)\n",
      "infraction_code  fine_amount\n",
      "              5    208737610\n",
      "             29    123184590\n",
      "              3    105066315\n",
      "              9     92890500\n",
      "            210     83070540\n",
      "            207     64080300\n",
      "              8     59770860\n",
      "            347     56362780\n",
      "            403     44783400\n",
      "             15     38698950\n",
      "              6     28332920\n",
      "              2     18216105\n",
      "            355     18119700\n",
      "            192     17759850\n",
      "             30     17348790\n",
      "            367     15183900\n",
      "              5     13815750\n",
      "            406     13708240\n",
      "            363     12126150\n",
      "             28     10766960\n"
     ]
    }
   ],
   "source": [
    "# 3.1.2 - Top 20 ticket infractions (revenue)\n",
    "print(\"3.1.2 - Top 20 ticket infractions (revenue)\")\n",
    "df_top_20_infractions_by_revenue = df_infractions_by_revenue.groupby('infraction_code')['fine_amount'].sum().sort_values(ascending=False).head(20).reset_index(name ='fine_amount')\n",
    "print(df_top_20_infractions_by_revenue.to_string(index=False))"
   ]
  },
  {
   "cell_type": "code",
   "execution_count": 7,
   "metadata": {},
   "outputs": [
    {
     "name": "stdout",
     "output_type": "stream",
     "text": [
      "3.1.3 - Total revenue for all tickets\n",
      "1193164310\n"
     ]
    }
   ],
   "source": [
    "# 3.1.3 - Total revenue for all tickets\n",
    "print(\"3.1.3 - Total revenue for all tickets\")\n",
    "df_total_revenue_from_all_tickets = df_infractions_by_revenue['fine_amount'].sum()\n",
    "print(df_total_revenue_from_all_tickets)"
   ]
  },
  {
   "cell_type": "code",
   "execution_count": 8,
   "metadata": {},
   "outputs": [],
   "source": [
    "# 4. Alternative mobility options\n",
    "df = pd.read_json(path_or_buf='data/green-p-parking-2015.json')\n",
    "df = json_normalize(df['carparks'])\n",
    "df_parking_lot_locations = df[['lat', 'lng']]  \n",
    "#print(df_parking_lot_locations)\n",
    "df_bus_stop_locations = pd.read_csv(filepath_or_buffer='data/OpenData_TTC_Schedules/stops.txt', usecols = ['stop_lat', 'stop_lon'])\n",
    "#print(df_bus_stop_locations)\n",
    "# It is not possible to tell whether there are alternative mobility options available for each of the top 20 infractions or not. \n",
    "# this is because longitude and latitude information of the infraction location was neither provided nor possible to calculate. \n",
    "# 3.1.4a - Distance to closest parking lots for top 20 infractions\n",
    "# Because of the above reason it is not possible to calculate nearest parking lot distance from the infraction location.\n",
    "# 3.1.4b - Distance to closest TTC stop for top 20 infractions\n",
    "# Because of the above reason it is also not possible to calculate nearest bus stop distance from the infraction location. "
   ]
  },
  {
   "cell_type": "code",
   "execution_count": 9,
   "metadata": {},
   "outputs": [
    {
     "name": "stdout",
     "output_type": "stream",
     "text": [
      "3.1.5a - Impact of day of week in all infractions\n",
      "  week_day  frequency\n",
      "    Friday    4298052\n",
      "    Monday    3794105\n",
      "  Saturday    3768590\n",
      "    Sunday    2919876\n",
      "  Thursday    4295755\n",
      "   Tuesday    4298308\n",
      " Wednesday    4281998\n"
     ]
    }
   ],
   "source": [
    "# 3.1.5a - Impact of day of week in all infractions\n",
    "print(\"3.1.5a - Impact of day of week in all infractions\")\n",
    "infractions_count_per_week_day = infractions_count_per_week_day.groupby('week_day')['frequency'].sum().reset_index(name ='frequency')\n",
    "print(infractions_count_per_week_day.to_string(index=False))"
   ]
  },
  {
   "cell_type": "code",
   "execution_count": 10,
   "metadata": {},
   "outputs": [
    {
     "name": "stdout",
     "output_type": "stream",
     "text": [
      "3.1.5b - Impact of month of week in all infractions\n",
      "     month  frequency\n",
      "   January    2232724\n",
      "  February    2078692\n",
      "     March    2482780\n",
      "     April    2383277\n",
      "       May    2453236\n",
      "      June    2383460\n",
      "      July    2298606\n",
      "    August    2304302\n",
      " September    2295007\n",
      "   October    2382692\n",
      "  November    2311986\n",
      "  December    2049922\n"
     ]
    }
   ],
   "source": [
    "# 3.1.5b - Impact of month of week in all infractions\n",
    "print(\"3.1.5b - Impact of month of week in all infractions\")\n",
    "infractions_count_per_month = infractions_count_per_month.groupby('month')['frequency'].sum().reset_index(name ='frequency')\n",
    "months = [\"January\", \"February\", \"March\", \"April\", \"May\", \"June\",\n",
    "          \"July\", \"August\", \"September\", \"October\", \"November\", \"December\"]\n",
    "infractions_count_per_month['month'] = pd.Categorical(infractions_count_per_month['month'], categories=months, ordered=True)\n",
    "infractions_count_per_month.sort_values(by='month', ascending=True, inplace=True)\n",
    "print(infractions_count_per_month.to_string(index=False))"
   ]
  },
  {
   "cell_type": "code",
   "execution_count": 11,
   "metadata": {},
   "outputs": [
    {
     "name": "stdout",
     "output_type": "stream",
     "text": [
      "3.1.5c - Impact of season of week in all infractions\n",
      "  seaon  frequency\n",
      "   Fall    6989685\n",
      " Spring    7319293\n",
      " Summer    6986368\n",
      " Winter    6361338\n"
     ]
    }
   ],
   "source": [
    "# 3.1.5c - Impact of season of week in all infractions\n",
    "print(\"3.1.5c - Impact of season of week in all infractions\")\n",
    "infractions_count_per_month['seaon'] = infractions_count_per_month['month'].map(season_of_date)\n",
    "infractions_count_per_season = infractions_count_per_month.groupby('seaon')['frequency'].sum().reset_index(name ='frequency')\n",
    "print(infractions_count_per_season.to_string(index=False))"
   ]
  },
  {
   "cell_type": "code",
   "execution_count": 12,
   "metadata": {},
   "outputs": [
    {
     "name": "stdout",
     "output_type": "stream",
     "text": [
      "Impact of year in all infractions\n",
      " year  frequency\n",
      " 2008    2866860\n",
      " 2009    2772975\n",
      " 2010    2756878\n",
      " 2011    2805492\n",
      " 2012    2746154\n",
      " 2013    2611575\n",
      " 2014    2484983\n",
      " 2015    2168493\n",
      " 2016    2254761\n",
      " 2017    2144225\n",
      " 2018    2044288\n"
     ]
    }
   ],
   "source": [
    "# Impact of year in all infractions\n",
    "print(\"Impact of year in all infractions\")\n",
    "infractions_count_per_year = infractions_count_per_year.groupby('year')['frequency'].sum().reset_index(name ='frequency')\n",
    "print(infractions_count_per_year.to_string(index=False))"
   ]
  },
  {
   "cell_type": "code",
   "execution_count": 13,
   "metadata": {},
   "outputs": [
    {
     "name": "stdout",
     "output_type": "stream",
     "text": [
      "3.3.1.a.i - Distribution of infractions by year\n"
     ]
    },
    {
     "data": {
      "text/plain": [
       "<matplotlib.axes._subplots.AxesSubplot at 0x7f230a60feb8>"
      ]
     },
     "execution_count": 13,
     "metadata": {},
     "output_type": "execute_result"
    },
    {
     "data": {
      "image/png": "[encoded data removed]",
      "text/plain": [
       "<Figure size 432x288 with 1 Axes>"
      ]
     },
     "metadata": {
      "needs_background": "light"
     },
     "output_type": "display_data"
    }
   ],
   "source": [
    "# 3.3.1.a.i - Distribution of infractions by year\n",
    "print(\"3.3.1.a.i - Distribution of infractions by year\")\n",
    "infractions_count_per_year.plot(kind='bar',x='year',y='frequency')"
   ]
  },
  {
   "cell_type": "code",
   "execution_count": 14,
   "metadata": {},
   "outputs": [
    {
     "name": "stdout",
     "output_type": "stream",
     "text": [
      "3.3.1.a.ii - Distribution of infractions by month\n"
     ]
    },
    {
     "data": {
      "text/plain": [
       "<matplotlib.axes._subplots.AxesSubplot at 0x7f22fa7be8d0>"
      ]
     },
     "execution_count": 14,
     "metadata": {},
     "output_type": "execute_result"
    },
    {
     "data": {
      "image/png": "[encoded data removed]",
      "text/plain": [
       "<Figure size 432x288 with 1 Axes>"
      ]
     },
     "metadata": {
      "needs_background": "light"
     },
     "output_type": "display_data"
    }
   ],
   "source": [
    "# 3.3.1.a.ii - Distribution of infractions by month\n",
    "print(\"3.3.1.a.ii - Distribution of infractions by month\")\n",
    "infractions_count_per_month.plot(kind='bar', x='month', y='frequency')"
   ]
  },
  {
   "cell_type": "code",
   "execution_count": 15,
   "metadata": {
    "scrolled": false
   },
   "outputs": [
    {
     "name": "stdout",
     "output_type": "stream",
     "text": [
      "3.3.1.b - Distribution of top 20 infractions by fines\n"
     ]
    },
    {
     "data": {
      "text/plain": [
       "<matplotlib.axes._subplots.AxesSubplot at 0x7f23034f4160>"
      ]
     },
     "execution_count": 15,
     "metadata": {},
     "output_type": "execute_result"
    },
    {
     "data": {
      "image/png": "[encoded data removed]",
      "text/plain": [
       "<Figure size 432x288 with 1 Axes>"
      ]
     },
     "metadata": {
      "needs_background": "light"
     },
     "output_type": "display_data"
    }
   ],
   "source": [
    "# 3.3.1.b - Distribution of top 20 infractions by fines\n",
    "print(\"3.3.1.b - Distribution of top 20 infractions by fines\")\n",
    "df_top_20_infractions_by_revenue.plot(kind='bar', x='infraction_code', y='fine_amount')"
   ]
  },
  {
   "cell_type": "code",
   "execution_count": 16,
   "metadata": {
    "scrolled": false
   },
   "outputs": [
    {
     "data": {
      "image/png": "[encoded data removed]",
      "text/plain": [
       "<Figure size 432x288 with 1 Axes>"
      ]
     },
     "metadata": {
      "needs_background": "light"
     },
     "output_type": "display_data"
    }
   ],
   "source": [
    "# 3.3.2.a Geographic distribution (location) of top 20 infractions (count)\n",
    "# 3.3.2.b Geographic distribution by ward for top 20 infractions (count)\n",
    "# 3.3.2.c Geographic distribution by ward for top 20 infractions (revenue)\n",
    "# longitude, latitude of infraction is not available, neither there is any mapping provided to convert \n",
    "# street address of infractions to the langitude and latitude. Hence was not able to geographically \n",
    "# distribute infractions data on the ward map.\n",
    "wards = gpd.read_file('data/City Wards Data.geojson')\n",
    "ax = wards.plot(color='blue')\n",
    "plt.show()"
   ]
  },
  {
   "cell_type": "code",
   "execution_count": null,
   "metadata": {},
   "outputs": [],
   "source": []
  }
 ],
 "metadata": {
  "kernelspec": {
   "display_name": "Python 3",
   "language": "python",
   "name": "python3"
  },
  "language_info": {
   "codemirror_mode": {
    "name": "ipython",
    "version": 3
   },
   "file_extension": ".py",
   "mimetype": "text/x-python",
   "name": "python",
   "nbconvert_exporter": "python",
   "pygments_lexer": "ipython3",
   "version": "3.7.3"
  }
 },
 "nbformat": 4,
 "nbformat_minor": 2
}
