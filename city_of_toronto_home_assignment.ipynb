{
 "cells": [
  {
   "cell_type": "code",
   "execution_count": 1,
   "metadata": {},
   "outputs": [],
   "source": [
    "# All data are inside data folder\n",
    "# Before running this notebook, please unzip all zipped data under data/parking-tickets folder.\n",
    "# Data had to be zipped as their size were more than 100 MB and github does not allow to upload 100 MB files.\n",
    "# It is important to note that encoding format of existing parking-tickets at https://open.toronto.ca are not same\n",
    "# For example, for 2008 and 2010 data encoding format is utf-16 le while all other data encoding format is utf-8\n",
    "# The encoding format for few of data has been changed such that all data at github is saved in utf-8 format \n",
    "# so, it is important to run this notebook file with data available at github along with this file. "
   ]
  },
  {
   "cell_type": "code",
   "execution_count": 2,
   "metadata": {},
   "outputs": [],
   "source": [
    "import pandas as pd\n",
    "import matplotlib.pyplot as plt\n",
    "import json\n",
    "from pandas.io.json import json_normalize\n",
    "import glob\n",
    "import geopandas as gpd"
   ]
  },
  {
   "cell_type": "code",
   "execution_count": 3,
   "metadata": {},
   "outputs": [],
   "source": [
    "def season_of_date(month):\n",
    "    if month in ['December', 'January', 'February']:\n",
    "        return 'Winter'\n",
    "    elif month in ['March', 'April', 'May']:\n",
    "        return 'Spring'\n",
    "    elif month in ['June', 'July', 'August']:\n",
    "        return 'Summer'\n",
    "    elif month in ['September', 'October', 'November']:\n",
    "        return 'Fall'"
   ]
  },
  {
   "cell_type": "code",
   "execution_count": null,
   "metadata": {},
   "outputs": [],
   "source": [
    "df_infractions_by_frequency = pd.DataFrame()\n",
    "df_infractions_by_revenue = pd.DataFrame()\n",
    "infractions_count_per_week_day = pd.DataFrame()\n",
    "infractions_count_per_month = pd.DataFrame()\n",
    "infractions_count_per_season = pd.DataFrame()\n",
    "infractions_count_per_year = pd.DataFrame()\n",
    "\n",
    "all_files = glob.glob(\"data/parking-tickets/*/*\")\n",
    "for file in all_files:\n",
    "    df = pd.read_csv(filepath_or_buffer=file, \n",
    "                            encoding='utf-8', # some of input file are using utf-16le encode, so saved all with utf-8\n",
    "                            error_bad_lines=False,\n",
    "                            engine = 'python', # python engine needed to take care EOF file problem with data\n",
    "                            keep_default_na = False, # to drop float NaN(at the place of missing values), which convert infraction code to float number instead of integer \n",
    "                            usecols = ['infraction_code', 'set_fine_amount', 'date_of_infraction', 'location2'])\n",
    "    df_infractions_by_frequency_new = df.groupby('infraction_code')['infraction_code'].count().reset_index(name ='frequency')\n",
    "    df_infractions_by_frequency = pd.concat([df_infractions_by_frequency, df_infractions_by_frequency_new])\n",
    "    \n",
    "    df_infractions_by_revenue_new = df.groupby('infraction_code')['set_fine_amount'].sum().reset_index(name ='fine_amount')\n",
    "    df_infractions_by_revenue = pd.concat([df_infractions_by_revenue, df_infractions_by_revenue_new])\n",
    "    \n",
    "    df['date_of_infraction'] = pd.to_datetime(df['date_of_infraction'], format='%Y%m%d', errors='coerce')\n",
    "    \n",
    "    df['week_day'] = df['date_of_infraction'].dt.day_name()\n",
    "    infractions_count_per_week_day_new = df.groupby('week_day')['week_day'].count().reset_index(name ='frequency')\n",
    "    infractions_count_per_week_day = pd.concat([infractions_count_per_week_day, infractions_count_per_week_day_new], sort=False)\n",
    "\n",
    "    df['month'] = df['date_of_infraction'].dt.month_name()\n",
    "    infractions_count_per_month_new = df.groupby('month')['month'].count().reset_index(name ='frequency')\n",
    "    infractions_count_per_month = pd.concat([infractions_count_per_month, infractions_count_per_month_new], sort=False)\n",
    "\n",
    "    df['year'] = df['date_of_infraction'].dt.year\n",
    "    infractions_count_per_year_new = df.groupby('year')['year'].count().reset_index(name ='frequency')\n",
    "    infractions_count_per_year = pd.concat([infractions_count_per_year, infractions_count_per_year_new], sort=False)"
   ]
  },
  {
   "cell_type": "code",
   "execution_count": null,
   "metadata": {},
   "outputs": [],
   "source": [
    "# 3.1.1 - Top 20 ticket infractions (frequency)\n",
    "print(\"3.1.1 - Top 20 ticket infractions (frequency)\")\n",
    "df_top_20_infractions_by_frequency = df_infractions_by_frequency.groupby('infraction_code')['frequency'].sum().sort_values(ascending=False).head(20).reset_index(name ='frequency')\n",
    "print(df_top_20_infractions_by_frequency.to_string(index=False))"
   ]
  },
  {
   "cell_type": "code",
   "execution_count": null,
   "metadata": {},
   "outputs": [],
   "source": [
    "# 3.1.2 - Top 20 ticket infractions (revenue)\n",
    "print(\"3.1.2 - Top 20 ticket infractions (revenue)\")\n",
    "df_top_20_infractions_by_revenue = df_infractions_by_revenue.groupby('infraction_code')['fine_amount'].sum().sort_values(ascending=False).head(20).reset_index(name ='fine_amount')\n",
    "print(df_top_20_infractions_by_revenue.to_string(index=False))"
   ]
  },
  {
   "cell_type": "code",
   "execution_count": null,
   "metadata": {},
   "outputs": [],
   "source": [
    "# 3.1.3 - Total revenue for all tickets\n",
    "print(\"3.1.3 - Total revenue for all tickets\")\n",
    "df_total_revenue_from_all_tickets = df_infractions_by_revenue['fine_amount'].sum()\n",
    "print(df_total_revenue_from_all_tickets)"
   ]
  },
  {
   "cell_type": "code",
   "execution_count": null,
   "metadata": {},
   "outputs": [],
   "source": [
    "# 4. Alternative mobility options\n",
    "df = pd.read_json(path_or_buf='data/green-p-parking-2015.json')\n",
    "df = json_normalize(df['carparks'])\n",
    "df_parking_lot_locations = df[['lat', 'lng']]  \n",
    "#print(df_parking_lot_locations)\n",
    "df_bus_stop_locations = pd.read_csv(filepath_or_buffer='data/OpenData_TTC_Schedules/stops.txt', usecols = ['stop_lat', 'stop_lon'])\n",
    "#print(df_bus_stop_locations)\n",
    "# It is not possible to tell whether there are alternative mobility options available for each of the top 20 infractions or not. \n",
    "# this is because longitude and latitude information of the infraction location was neither provided nor possible to calculate. \n",
    "# 3.1.4a - Distance to closest parking lots for top 20 infractions\n",
    "# Because of the above reason it is not possible to calculate nearest parking lot distance from the infraction location.\n",
    "# 3.1.4b - Distance to closest TTC stop for top 20 infractions\n",
    "# Because of the above reason it is also not possible to calculate nearest bus stop distance from the infraction location. "
   ]
  },
  {
   "cell_type": "code",
   "execution_count": null,
   "metadata": {},
   "outputs": [],
   "source": [
    "# 3.1.5a - Impact of day of week in all infractions\n",
    "print(\"3.1.5a - Impact of day of week in all infractions\")\n",
    "infractions_count_per_week_day = infractions_count_per_week_day.groupby('week_day')['frequency'].sum().reset_index(name ='frequency')\n",
    "print(infractions_count_per_week_day.to_string(index=False))"
   ]
  },
  {
   "cell_type": "code",
   "execution_count": null,
   "metadata": {},
   "outputs": [],
   "source": [
    "# 3.1.5b - Impact of month of week in all infractions\n",
    "print(\"3.1.5b - Impact of month of week in all infractions\")\n",
    "infractions_count_per_month = infractions_count_per_month.groupby('month')['frequency'].sum().reset_index(name ='frequency')\n",
    "months = [\"January\", \"February\", \"March\", \"April\", \"May\", \"June\",\n",
    "          \"July\", \"August\", \"September\", \"October\", \"November\", \"December\"]\n",
    "infractions_count_per_month['month'] = pd.Categorical(infractions_count_per_month['month'], categories=months, ordered=True)\n",
    "infractions_count_per_month.sort_values(by='month', ascending=True, inplace=True)\n",
    "print(infractions_count_per_month.to_string(index=False))"
   ]
  },
  {
   "cell_type": "code",
   "execution_count": null,
   "metadata": {},
   "outputs": [],
   "source": [
    "# 3.1.5c - Impact of season of week in all infractions\n",
    "print(\"3.1.5c - Impact of season of week in all infractions\")\n",
    "infractions_count_per_month['seaon'] = infractions_count_per_month['month'].map(season_of_date)\n",
    "infractions_count_per_season = infractions_count_per_month.groupby('seaon')['frequency'].sum().reset_index(name ='frequency')\n",
    "print(infractions_count_per_season.to_string(index=False))"
   ]
  },
  {
   "cell_type": "code",
   "execution_count": null,
   "metadata": {},
   "outputs": [],
   "source": [
    "# Impact of year in all infractions\n",
    "print(\"Impact of year in all infractions\")\n",
    "infractions_count_per_year = infractions_count_per_year.groupby('year')['frequency'].sum().reset_index(name ='frequency')\n",
    "print(infractions_count_per_year.to_string(index=False))"
   ]
  },
  {
   "cell_type": "code",
   "execution_count": null,
   "metadata": {},
   "outputs": [],
   "source": [
    "# 3.3.1.a.i - Distribution of infractions by year\n",
    "print(\"3.3.1.a.i - Distribution of infractions by year\")\n",
    "infractions_count_per_year.plot(kind='bar',x='year',y='frequency')"
   ]
  },
  {
   "cell_type": "code",
   "execution_count": null,
   "metadata": {},
   "outputs": [],
   "source": [
    "# 3.3.1.a.ii - Distribution of infractions by month\n",
    "print(\"3.3.1.a.ii - Distribution of infractions by month\")\n",
    "infractions_count_per_month.plot(kind='bar', x='month', y='frequency')"
   ]
  },
  {
   "cell_type": "code",
   "execution_count": null,
   "metadata": {
    "scrolled": false
   },
   "outputs": [],
   "source": [
    "# 3.3.1.b - Distribution of top 20 infractions by fines\n",
    "print(\"3.3.1.b - Distribution of top 20 infractions by fines\")\n",
    "df_top_20_infractions_by_revenue.plot(kind='bar', x='infraction_code', y='fine_amount')"
   ]
  },
  {
   "cell_type": "code",
   "execution_count": null,
   "metadata": {
    "scrolled": false
   },
   "outputs": [],
   "source": [
    "# 3.3.2.a Geographic distribution (location) of top 20 infractions (count)\n",
    "# 3.3.2.b Geographic distribution by ward for top 20 infractions (count)\n",
    "# 3.3.2.c Geographic distribution by ward for top 20 infractions (revenue)\n",
    "# longitude, latitude of infraction is not available, neither there is any mapping provided to convert \n",
    "# street address of infractions to the langitude and latitude. Hence was not able to geographically \n",
    "# distribute infractions data on the ward map.\n",
    "wards = gpd.read_file('data/City Wards Data.geojson')\n",
    "ax = wards.plot(color='blue')\n",
    "plt.show()"
   ]
  },
  {
   "cell_type": "code",
   "execution_count": null,
   "metadata": {},
   "outputs": [],
   "source": []
  }
 ],
 "metadata": {
  "kernelspec": {
   "display_name": "Python 3",
   "language": "python",
   "name": "python3"
  },
  "language_info": {
   "codemirror_mode": {
    "name": "ipython",
    "version": 3
   },
   "file_extension": ".py",
   "mimetype": "text/x-python",
   "name": "python",
   "nbconvert_exporter": "python",
   "pygments_lexer": "ipython3",
   "version": "3.7.3"
  }
 },
 "nbformat": 4,
 "nbformat_minor": 2
}
